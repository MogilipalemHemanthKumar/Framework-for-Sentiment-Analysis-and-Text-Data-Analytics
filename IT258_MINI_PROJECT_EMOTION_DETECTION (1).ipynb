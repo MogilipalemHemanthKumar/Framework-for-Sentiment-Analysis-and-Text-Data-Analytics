{
  "nbformat": 4,
  "nbformat_minor": 0,
  "metadata": {
    "colab": {
      "provenance": []
    },
    "kernelspec": {
      "name": "python3",
      "display_name": "Python 3"
    },
    "language_info": {
      "name": "python"
    }
  },
  "cells": [
    {
      "cell_type": "code",
      "execution_count": null,
      "metadata": {
        "id": "bhrvbsC-85yF"
      },
      "outputs": [],
      "source": [
        "'''IMPORTING DEPENDENCIES'''\n",
        "\n",
        "import pandas as pd\n",
        "import numpy as np\n"
      ]
    },
    {
      "cell_type": "markdown",
      "source": [
        "USING THE NEATTEXT FOR TEXT CLEANING"
      ],
      "metadata": {
        "id": "HHkcrdUAwjUr"
      }
    },
    {
      "cell_type": "code",
      "source": [
        "!pip install neattext\n",
        "# Load Text Cleaning Pkgs\n",
        "import neattext.functions as nfx"
      ],
      "metadata": {
        "id": "wqq-VeEEB6Rn",
        "colab": {
          "base_uri": "https://localhost:8080/"
        },
        "outputId": "27c8af3e-17ad-47b8-c89c-51c8b65ea045"
      },
      "execution_count": null,
      "outputs": [
        {
          "output_type": "stream",
          "name": "stdout",
          "text": [
            "Looking in indexes: https://pypi.org/simple, https://us-python.pkg.dev/colab-wheels/public/simple/\n",
            "Requirement already satisfied: neattext in /usr/local/lib/python3.10/dist-packages (0.1.3)\n"
          ]
        }
      ]
    },
    {
      "cell_type": "code",
      "source": [
        "df=pd.read_csv(\"/content/emotion-labels-train.csv\")"
      ],
      "metadata": {
        "id": "IoDEC_k5BFCN"
      },
      "execution_count": null,
      "outputs": []
    },
    {
      "cell_type": "code",
      "source": [
        "df.info()"
      ],
      "metadata": {
        "id": "bCYvtybDBzMH",
        "colab": {
          "base_uri": "https://localhost:8080/"
        },
        "outputId": "1b87827a-3d31-4e2c-f4ba-20a48faa9fb8"
      },
      "execution_count": null,
      "outputs": [
        {
          "output_type": "stream",
          "name": "stdout",
          "text": [
            "<class 'pandas.core.frame.DataFrame'>\n",
            "RangeIndex: 3613 entries, 0 to 3612\n",
            "Data columns (total 2 columns):\n",
            " #   Column  Non-Null Count  Dtype \n",
            "---  ------  --------------  ----- \n",
            " 0   text    3613 non-null   object\n",
            " 1   label   3613 non-null   object\n",
            "dtypes: object(2)\n",
            "memory usage: 56.6+ KB\n"
          ]
        }
      ]
    },
    {
      "cell_type": "code",
      "source": [
        "df.head()"
      ],
      "metadata": {
        "colab": {
          "base_uri": "https://localhost:8080/",
          "height": 206
        },
        "id": "gCV89DxQCQLc",
        "outputId": "4a6a760a-645a-44a0-845f-95e91aebcff2"
      },
      "execution_count": null,
      "outputs": [
        {
          "output_type": "execute_result",
          "data": {
            "text/plain": [
              "                                                text label\n",
              "0  Just got back from seeing @GaryDelaney in Burs...   joy\n",
              "1  Oh dear an evening of absolute hilarity I don'...   joy\n",
              "2  Been waiting all week for this game ❤️❤️❤️ #ch...   joy\n",
              "3  @gardiner_love : Thank you so much, Gloria! Yo...   joy\n",
              "4  I feel so blessed to work with the family that...   joy"
            ],
            "text/html": [
              "\n",
              "  <div id=\"df-13768b16-d91e-492f-9dd4-35744b235ec9\">\n",
              "    <div class=\"colab-df-container\">\n",
              "      <div>\n",
              "<style scoped>\n",
              "    .dataframe tbody tr th:only-of-type {\n",
              "        vertical-align: middle;\n",
              "    }\n",
              "\n",
              "    .dataframe tbody tr th {\n",
              "        vertical-align: top;\n",
              "    }\n",
              "\n",
              "    .dataframe thead th {\n",
              "        text-align: right;\n",
              "    }\n",
              "</style>\n",
              "<table border=\"1\" class=\"dataframe\">\n",
              "  <thead>\n",
              "    <tr style=\"text-align: right;\">\n",
              "      <th></th>\n",
              "      <th>text</th>\n",
              "      <th>label</th>\n",
              "    </tr>\n",
              "  </thead>\n",
              "  <tbody>\n",
              "    <tr>\n",
              "      <th>0</th>\n",
              "      <td>Just got back from seeing @GaryDelaney in Burs...</td>\n",
              "      <td>joy</td>\n",
              "    </tr>\n",
              "    <tr>\n",
              "      <th>1</th>\n",
              "      <td>Oh dear an evening of absolute hilarity I don'...</td>\n",
              "      <td>joy</td>\n",
              "    </tr>\n",
              "    <tr>\n",
              "      <th>2</th>\n",
              "      <td>Been waiting all week for this game ❤️❤️❤️ #ch...</td>\n",
              "      <td>joy</td>\n",
              "    </tr>\n",
              "    <tr>\n",
              "      <th>3</th>\n",
              "      <td>@gardiner_love : Thank you so much, Gloria! Yo...</td>\n",
              "      <td>joy</td>\n",
              "    </tr>\n",
              "    <tr>\n",
              "      <th>4</th>\n",
              "      <td>I feel so blessed to work with the family that...</td>\n",
              "      <td>joy</td>\n",
              "    </tr>\n",
              "  </tbody>\n",
              "</table>\n",
              "</div>\n",
              "      <button class=\"colab-df-convert\" onclick=\"convertToInteractive('df-13768b16-d91e-492f-9dd4-35744b235ec9')\"\n",
              "              title=\"Convert this dataframe to an interactive table.\"\n",
              "              style=\"display:none;\">\n",
              "        \n",
              "  <svg xmlns=\"http://www.w3.org/2000/svg\" height=\"24px\"viewBox=\"0 0 24 24\"\n",
              "       width=\"24px\">\n",
              "    <path d=\"M0 0h24v24H0V0z\" fill=\"none\"/>\n",
              "    <path d=\"M18.56 5.44l.94 2.06.94-2.06 2.06-.94-2.06-.94-.94-2.06-.94 2.06-2.06.94zm-11 1L8.5 8.5l.94-2.06 2.06-.94-2.06-.94L8.5 2.5l-.94 2.06-2.06.94zm10 10l.94 2.06.94-2.06 2.06-.94-2.06-.94-.94-2.06-.94 2.06-2.06.94z\"/><path d=\"M17.41 7.96l-1.37-1.37c-.4-.4-.92-.59-1.43-.59-.52 0-1.04.2-1.43.59L10.3 9.45l-7.72 7.72c-.78.78-.78 2.05 0 2.83L4 21.41c.39.39.9.59 1.41.59.51 0 1.02-.2 1.41-.59l7.78-7.78 2.81-2.81c.8-.78.8-2.07 0-2.86zM5.41 20L4 18.59l7.72-7.72 1.47 1.35L5.41 20z\"/>\n",
              "  </svg>\n",
              "      </button>\n",
              "      \n",
              "  <style>\n",
              "    .colab-df-container {\n",
              "      display:flex;\n",
              "      flex-wrap:wrap;\n",
              "      gap: 12px;\n",
              "    }\n",
              "\n",
              "    .colab-df-convert {\n",
              "      background-color: #E8F0FE;\n",
              "      border: none;\n",
              "      border-radius: 50%;\n",
              "      cursor: pointer;\n",
              "      display: none;\n",
              "      fill: #1967D2;\n",
              "      height: 32px;\n",
              "      padding: 0 0 0 0;\n",
              "      width: 32px;\n",
              "    }\n",
              "\n",
              "    .colab-df-convert:hover {\n",
              "      background-color: #E2EBFA;\n",
              "      box-shadow: 0px 1px 2px rgba(60, 64, 67, 0.3), 0px 1px 3px 1px rgba(60, 64, 67, 0.15);\n",
              "      fill: #174EA6;\n",
              "    }\n",
              "\n",
              "    [theme=dark] .colab-df-convert {\n",
              "      background-color: #3B4455;\n",
              "      fill: #D2E3FC;\n",
              "    }\n",
              "\n",
              "    [theme=dark] .colab-df-convert:hover {\n",
              "      background-color: #434B5C;\n",
              "      box-shadow: 0px 1px 3px 1px rgba(0, 0, 0, 0.15);\n",
              "      filter: drop-shadow(0px 1px 2px rgba(0, 0, 0, 0.3));\n",
              "      fill: #FFFFFF;\n",
              "    }\n",
              "  </style>\n",
              "\n",
              "      <script>\n",
              "        const buttonEl =\n",
              "          document.querySelector('#df-13768b16-d91e-492f-9dd4-35744b235ec9 button.colab-df-convert');\n",
              "        buttonEl.style.display =\n",
              "          google.colab.kernel.accessAllowed ? 'block' : 'none';\n",
              "\n",
              "        async function convertToInteractive(key) {\n",
              "          const element = document.querySelector('#df-13768b16-d91e-492f-9dd4-35744b235ec9');\n",
              "          const dataTable =\n",
              "            await google.colab.kernel.invokeFunction('convertToInteractive',\n",
              "                                                     [key], {});\n",
              "          if (!dataTable) return;\n",
              "\n",
              "          const docLinkHtml = 'Like what you see? Visit the ' +\n",
              "            '<a target=\"_blank\" href=https://colab.research.google.com/notebooks/data_table.ipynb>data table notebook</a>'\n",
              "            + ' to learn more about interactive tables.';\n",
              "          element.innerHTML = '';\n",
              "          dataTable['output_type'] = 'display_data';\n",
              "          await google.colab.output.renderOutput(dataTable, element);\n",
              "          const docLink = document.createElement('div');\n",
              "          docLink.innerHTML = docLinkHtml;\n",
              "          element.appendChild(docLink);\n",
              "        }\n",
              "      </script>\n",
              "    </div>\n",
              "  </div>\n",
              "  "
            ]
          },
          "metadata": {},
          "execution_count": 23
        }
      ]
    },
    {
      "cell_type": "markdown",
      "source": [
        "DESCRIPTIVE DATA ANALYSIS"
      ],
      "metadata": {
        "id": "32O7wD3kw85g"
      }
    },
    {
      "cell_type": "code",
      "source": [
        "df.describe()"
      ],
      "metadata": {
        "colab": {
          "base_uri": "https://localhost:8080/",
          "height": 175
        },
        "id": "DsKqsyi_CTX2",
        "outputId": "11506e7b-dbe0-42e1-947a-dee2377c7a9c"
      },
      "execution_count": null,
      "outputs": [
        {
          "output_type": "execute_result",
          "data": {
            "text/plain": [
              "                                                 text label\n",
              "count                                            3613  3613\n",
              "unique                                           3565     4\n",
              "top     i love the word fret so much and im in heaven  fear\n",
              "freq                                                2  1147"
            ],
            "text/html": [
              "\n",
              "  <div id=\"df-75302e0f-dc0b-4e95-8553-6f557b74994a\">\n",
              "    <div class=\"colab-df-container\">\n",
              "      <div>\n",
              "<style scoped>\n",
              "    .dataframe tbody tr th:only-of-type {\n",
              "        vertical-align: middle;\n",
              "    }\n",
              "\n",
              "    .dataframe tbody tr th {\n",
              "        vertical-align: top;\n",
              "    }\n",
              "\n",
              "    .dataframe thead th {\n",
              "        text-align: right;\n",
              "    }\n",
              "</style>\n",
              "<table border=\"1\" class=\"dataframe\">\n",
              "  <thead>\n",
              "    <tr style=\"text-align: right;\">\n",
              "      <th></th>\n",
              "      <th>text</th>\n",
              "      <th>label</th>\n",
              "    </tr>\n",
              "  </thead>\n",
              "  <tbody>\n",
              "    <tr>\n",
              "      <th>count</th>\n",
              "      <td>3613</td>\n",
              "      <td>3613</td>\n",
              "    </tr>\n",
              "    <tr>\n",
              "      <th>unique</th>\n",
              "      <td>3565</td>\n",
              "      <td>4</td>\n",
              "    </tr>\n",
              "    <tr>\n",
              "      <th>top</th>\n",
              "      <td>i love the word fret so much and im in heaven</td>\n",
              "      <td>fear</td>\n",
              "    </tr>\n",
              "    <tr>\n",
              "      <th>freq</th>\n",
              "      <td>2</td>\n",
              "      <td>1147</td>\n",
              "    </tr>\n",
              "  </tbody>\n",
              "</table>\n",
              "</div>\n",
              "      <button class=\"colab-df-convert\" onclick=\"convertToInteractive('df-75302e0f-dc0b-4e95-8553-6f557b74994a')\"\n",
              "              title=\"Convert this dataframe to an interactive table.\"\n",
              "              style=\"display:none;\">\n",
              "        \n",
              "  <svg xmlns=\"http://www.w3.org/2000/svg\" height=\"24px\"viewBox=\"0 0 24 24\"\n",
              "       width=\"24px\">\n",
              "    <path d=\"M0 0h24v24H0V0z\" fill=\"none\"/>\n",
              "    <path d=\"M18.56 5.44l.94 2.06.94-2.06 2.06-.94-2.06-.94-.94-2.06-.94 2.06-2.06.94zm-11 1L8.5 8.5l.94-2.06 2.06-.94-2.06-.94L8.5 2.5l-.94 2.06-2.06.94zm10 10l.94 2.06.94-2.06 2.06-.94-2.06-.94-.94-2.06-.94 2.06-2.06.94z\"/><path d=\"M17.41 7.96l-1.37-1.37c-.4-.4-.92-.59-1.43-.59-.52 0-1.04.2-1.43.59L10.3 9.45l-7.72 7.72c-.78.78-.78 2.05 0 2.83L4 21.41c.39.39.9.59 1.41.59.51 0 1.02-.2 1.41-.59l7.78-7.78 2.81-2.81c.8-.78.8-2.07 0-2.86zM5.41 20L4 18.59l7.72-7.72 1.47 1.35L5.41 20z\"/>\n",
              "  </svg>\n",
              "      </button>\n",
              "      \n",
              "  <style>\n",
              "    .colab-df-container {\n",
              "      display:flex;\n",
              "      flex-wrap:wrap;\n",
              "      gap: 12px;\n",
              "    }\n",
              "\n",
              "    .colab-df-convert {\n",
              "      background-color: #E8F0FE;\n",
              "      border: none;\n",
              "      border-radius: 50%;\n",
              "      cursor: pointer;\n",
              "      display: none;\n",
              "      fill: #1967D2;\n",
              "      height: 32px;\n",
              "      padding: 0 0 0 0;\n",
              "      width: 32px;\n",
              "    }\n",
              "\n",
              "    .colab-df-convert:hover {\n",
              "      background-color: #E2EBFA;\n",
              "      box-shadow: 0px 1px 2px rgba(60, 64, 67, 0.3), 0px 1px 3px 1px rgba(60, 64, 67, 0.15);\n",
              "      fill: #174EA6;\n",
              "    }\n",
              "\n",
              "    [theme=dark] .colab-df-convert {\n",
              "      background-color: #3B4455;\n",
              "      fill: #D2E3FC;\n",
              "    }\n",
              "\n",
              "    [theme=dark] .colab-df-convert:hover {\n",
              "      background-color: #434B5C;\n",
              "      box-shadow: 0px 1px 3px 1px rgba(0, 0, 0, 0.15);\n",
              "      filter: drop-shadow(0px 1px 2px rgba(0, 0, 0, 0.3));\n",
              "      fill: #FFFFFF;\n",
              "    }\n",
              "  </style>\n",
              "\n",
              "      <script>\n",
              "        const buttonEl =\n",
              "          document.querySelector('#df-75302e0f-dc0b-4e95-8553-6f557b74994a button.colab-df-convert');\n",
              "        buttonEl.style.display =\n",
              "          google.colab.kernel.accessAllowed ? 'block' : 'none';\n",
              "\n",
              "        async function convertToInteractive(key) {\n",
              "          const element = document.querySelector('#df-75302e0f-dc0b-4e95-8553-6f557b74994a');\n",
              "          const dataTable =\n",
              "            await google.colab.kernel.invokeFunction('convertToInteractive',\n",
              "                                                     [key], {});\n",
              "          if (!dataTable) return;\n",
              "\n",
              "          const docLinkHtml = 'Like what you see? Visit the ' +\n",
              "            '<a target=\"_blank\" href=https://colab.research.google.com/notebooks/data_table.ipynb>data table notebook</a>'\n",
              "            + ' to learn more about interactive tables.';\n",
              "          element.innerHTML = '';\n",
              "          dataTable['output_type'] = 'display_data';\n",
              "          await google.colab.output.renderOutput(dataTable, element);\n",
              "          const docLink = document.createElement('div');\n",
              "          docLink.innerHTML = docLinkHtml;\n",
              "          element.appendChild(docLink);\n",
              "        }\n",
              "      </script>\n",
              "    </div>\n",
              "  </div>\n",
              "  "
            ]
          },
          "metadata": {},
          "execution_count": 24
        }
      ]
    },
    {
      "cell_type": "markdown",
      "source": [
        "UNIQUE VALUES IN EMOTION COLUMN"
      ],
      "metadata": {
        "id": "ReOIHsYxxDjt"
      }
    },
    {
      "cell_type": "code",
      "source": [
        "df['label'].value_counts()"
      ],
      "metadata": {
        "colab": {
          "base_uri": "https://localhost:8080/"
        },
        "id": "xrWGdmWwCW6N",
        "outputId": "42d4230d-f04f-4607-8ec1-2ed128408a21"
      },
      "execution_count": null,
      "outputs": [
        {
          "output_type": "execute_result",
          "data": {
            "text/plain": [
              "fear       1147\n",
              "anger       857\n",
              "joy         823\n",
              "sadness     786\n",
              "Name: label, dtype: int64"
            ]
          },
          "metadata": {},
          "execution_count": 27
        }
      ]
    },
    {
      "cell_type": "markdown",
      "source": [
        "HANDLING IMBALANCED DATA"
      ],
      "metadata": {
        "id": "myUITukjxKee"
      }
    },
    {
      "cell_type": "code",
      "source": [
        "x = df.drop(df[df['label'] == 'fear'].index)"
      ],
      "metadata": {
        "id": "mWOuNH4ehrpP"
      },
      "execution_count": null,
      "outputs": []
    },
    {
      "cell_type": "code",
      "source": [
        "fear_df = df[df['label'] == 'fear'].sample(n=800, random_state=42)"
      ],
      "metadata": {
        "id": "nlkrDN02iv7_"
      },
      "execution_count": null,
      "outputs": []
    },
    {
      "cell_type": "code",
      "source": [
        "df = pd.concat([x, fear_df])"
      ],
      "metadata": {
        "id": "OCZY9U5CjJIT"
      },
      "execution_count": null,
      "outputs": []
    },
    {
      "cell_type": "markdown",
      "source": [
        "##**EXPLORATORY DATA ANALYSIS**"
      ],
      "metadata": {
        "id": "4huTILACxTql"
      }
    },
    {
      "cell_type": "code",
      "source": [
        "df['label'].value_counts().plot(kind='bar')"
      ],
      "metadata": {
        "colab": {
          "base_uri": "https://localhost:8080/",
          "height": 489
        },
        "id": "7vycXRw1Cc39",
        "outputId": "3da5c1c2-8e63-4c3c-9ce2-7b3007b422bd"
      },
      "execution_count": null,
      "outputs": [
        {
          "output_type": "execute_result",
          "data": {
            "text/plain": [
              "<Axes: >"
            ]
          },
          "metadata": {},
          "execution_count": 35
        },
        {
          "output_type": "display_data",
          "data": {
            "text/plain": [
              "<Figure size 640x480 with 1 Axes>"
            ],
            "image/png": "[encoded data removed]"
          },
          "metadata": {}
        }
      ]
    },
    {
      "cell_type": "code",
      "source": [
        "import matplotlib.pyplot as plt\n",
        "import seaborn as sns"
      ],
      "metadata": {
        "id": "nzBZebDjBLTQ"
      },
      "execution_count": null,
      "outputs": []
    },
    {
      "cell_type": "code",
      "source": [
        "sns.countplot(x='label',data=df)"
      ],
      "metadata": {
        "colab": {
          "base_uri": "https://localhost:8080/",
          "height": 466
        },
        "id": "1WSF1ePnCisq",
        "outputId": "c4dd97ba-bdb5-4882-d322-b13e1ff96533"
      },
      "execution_count": null,
      "outputs": [
        {
          "output_type": "execute_result",
          "data": {
            "text/plain": [
              "<Axes: xlabel='label', ylabel='count'>"
            ]
          },
          "metadata": {},
          "execution_count": 37
        },
        {
          "output_type": "display_data",
          "data": {
            "text/plain": [
              "<Figure size 640x480 with 1 Axes>"
            ],
            "image/png": "[encoded data removed]"
          },
          "metadata": {}
        }
      ]
    },
    {
      "cell_type": "code",
      "source": [
        "dir(nfx)"
      ],
      "metadata": {
        "id": "9wYEyVmmCsyg"
      },
      "execution_count": null,
      "outputs": []
    },
    {
      "cell_type": "markdown",
      "source": [
        "##**DATA CLEANING/PREPROCESSING**"
      ],
      "metadata": {
        "id": "ozas4YQexarK"
      }
    },
    {
      "cell_type": "code",
      "source": [
        "df['Clean_Text'] = df['text'].apply(nfx.remove_userhandles)\n",
        "df['Clean_Text'] = df['Clean_Text'].apply(nfx.remove_stopwords)"
      ],
      "metadata": {
        "id": "XtP3r7YUDsKL"
      },
      "execution_count": null,
      "outputs": []
    },
    {
      "cell_type": "code",
      "source": [
        "x = df['Clean_Text']\n",
        "y = df['label']"
      ],
      "metadata": {
        "id": "fBeWqkXfD3_p"
      },
      "execution_count": null,
      "outputs": []
    },
    {
      "cell_type": "markdown",
      "source": [
        "##**DATA MODELING**"
      ],
      "metadata": {
        "id": "OsPrGAx3xirI"
      }
    },
    {
      "cell_type": "code",
      "source": [
        "from sklearn.model_selection import train_test_split\n",
        "from sklearn.feature_extraction.text import CountVectorizer,TfidfVectorizer"
      ],
      "metadata": {
        "id": "UgP0HC0rEFCV"
      },
      "execution_count": null,
      "outputs": []
    },
    {
      "cell_type": "code",
      "source": [
        "x_train,x_test,y_train,y_test = train_test_split(x,y,test_size=0.2,random_state=2)"
      ],
      "metadata": {
        "id": "-_DveFHPD8rf"
      },
      "execution_count": null,
      "outputs": []
    },
    {
      "cell_type": "code",
      "source": [
        "from sklearn.linear_model import LogisticRegression"
      ],
      "metadata": {
        "id": "cApJ4qo3EZOB"
      },
      "execution_count": null,
      "outputs": []
    },
    {
      "cell_type": "markdown",
      "source": [
        "CREATING A PIPELINE OF COUNT VECTORIZER AND LOGISTIC REGRESSION "
      ],
      "metadata": {
        "id": "I5edkjioxoUO"
      }
    },
    {
      "cell_type": "code",
      "source": [
        "from sklearn.pipeline import Pipeline\n",
        "# LogisticRegression Pipeline\n",
        "pipe_lr = Pipeline(steps=[('cv',CountVectorizer()),('lr',LogisticRegression())])"
      ],
      "metadata": {
        "id": "RPuofy9DEDle"
      },
      "execution_count": null,
      "outputs": []
    },
    {
      "cell_type": "code",
      "source": [
        "pipe_lr.fit(x_train,y_train)"
      ],
      "metadata": {
        "id": "rTLCSINfEXY5",
        "colab": {
          "base_uri": "https://localhost:8080/",
          "height": 126
        },
        "outputId": "4b46a9b6-22d3-4c9d-c68a-1009681210da"
      },
      "execution_count": null,
      "outputs": [
        {
          "output_type": "execute_result",
          "data": {
            "text/plain": [
              "Pipeline(steps=[('cv', CountVectorizer()), ('lr', LogisticRegression())])"
            ],
            "text/html": [
              "<style>#sk-container-id-1 {color: black;background-color: white;}#sk-container-id-1 pre{padding: 0;}#sk-container-id-1 div.sk-toggleable {background-color: white;}#sk-container-id-1 label.sk-toggleable__label {cursor: pointer;display: block;width: 100%;margin-bottom: 0;padding: 0.3em;box-sizing: border-box;text-align: center;}#sk-container-id-1 label.sk-toggleable__label-arrow:before {content: \"▸\";float: left;margin-right: 0.25em;color: #696969;}#sk-container-id-1 label.sk-toggleable__label-arrow:hover:before {color: black;}#sk-container-id-1 div.sk-estimator:hover label.sk-toggleable__label-arrow:before {color: black;}#sk-container-id-1 div.sk-toggleable__content {max-height: 0;max-width: 0;overflow: hidden;text-align: left;background-color: #f0f8ff;}#sk-container-id-1 div.sk-toggleable__content pre {margin: 0.2em;color: black;border-radius: 0.25em;background-color: #f0f8ff;}#sk-container-id-1 input.sk-toggleable__control:checked~div.sk-toggleable__content {max-height: 200px;max-width: 100%;overflow: auto;}#sk-container-id-1 input.sk-toggleable__control:checked~label.sk-toggleable__label-arrow:before {content: \"▾\";}#sk-container-id-1 div.sk-estimator input.sk-toggleable__control:checked~label.sk-toggleable__label {background-color: #d4ebff;}#sk-container-id-1 div.sk-label input.sk-toggleable__control:checked~label.sk-toggleable__label {background-color: #d4ebff;}#sk-container-id-1 input.sk-hidden--visually {border: 0;clip: rect(1px 1px 1px 1px);clip: rect(1px, 1px, 1px, 1px);height: 1px;margin: -1px;overflow: hidden;padding: 0;position: absolute;width: 1px;}#sk-container-id-1 div.sk-estimator {font-family: monospace;background-color: #f0f8ff;border: 1px dotted black;border-radius: 0.25em;box-sizing: border-box;margin-bottom: 0.5em;}#sk-container-id-1 div.sk-estimator:hover {background-color: #d4ebff;}#sk-container-id-1 div.sk-parallel-item::after {content: \"\";width: 100%;border-bottom: 1px solid gray;flex-grow: 1;}#sk-container-id-1 div.sk-label:hover label.sk-toggleable__label {background-color: #d4ebff;}#sk-container-id-1 div.sk-serial::before {content: \"\";position: absolute;border-left: 1px solid gray;box-sizing: border-box;top: 0;bottom: 0;left: 50%;z-index: 0;}#sk-container-id-1 div.sk-serial {display: flex;flex-direction: column;align-items: center;background-color: white;padding-right: 0.2em;padding-left: 0.2em;position: relative;}#sk-container-id-1 div.sk-item {position: relative;z-index: 1;}#sk-container-id-1 div.sk-parallel {display: flex;align-items: stretch;justify-content: center;background-color: white;position: relative;}#sk-container-id-1 div.sk-item::before, #sk-container-id-1 div.sk-parallel-item::before {content: \"\";position: absolute;border-left: 1px solid gray;box-sizing: border-box;top: 0;bottom: 0;left: 50%;z-index: -1;}#sk-container-id-1 div.sk-parallel-item {display: flex;flex-direction: column;z-index: 1;position: relative;background-color: white;}#sk-container-id-1 div.sk-parallel-item:first-child::after {align-self: flex-end;width: 50%;}#sk-container-id-1 div.sk-parallel-item:last-child::after {align-self: flex-start;width: 50%;}#sk-container-id-1 div.sk-parallel-item:only-child::after {width: 0;}#sk-container-id-1 div.sk-dashed-wrapped {border: 1px dashed gray;margin: 0 0.4em 0.5em 0.4em;box-sizing: border-box;padding-bottom: 0.4em;background-color: white;}#sk-container-id-1 div.sk-label label {font-family: monospace;font-weight: bold;display: inline-block;line-height: 1.2em;}#sk-container-id-1 div.sk-label-container {text-align: center;}#sk-container-id-1 div.sk-container {/* jupyter's `normalize.less` sets `[hidden] { display: none; }` but bootstrap.min.css set `[hidden] { display: none !important; }` so we also need the `!important` here to be able to override the default hidden behavior on the sphinx rendered scikit-learn.org. See: https://github.com/scikit-learn/scikit-learn/issues/21755 */display: inline-block !important;position: relative;}#sk-container-id-1 div.sk-text-repr-fallback {display: none;}</style><div id=\"sk-container-id-1\" class=\"sk-top-container\"><div class=\"sk-text-repr-fallback\"><pre>Pipeline(steps=[(&#x27;cv&#x27;, CountVectorizer()), (&#x27;lr&#x27;, LogisticRegression())])</pre><b>In a Jupyter environment, please rerun this cell to show the HTML representation or trust the notebook. <br />On GitHub, the HTML representation is unable to render, please try loading this page with nbviewer.org.</b></div><div class=\"sk-container\" hidden><div class=\"sk-item sk-dashed-wrapped\"><div class=\"sk-label-container\"><div class=\"sk-label sk-toggleable\"><input class=\"sk-toggleable__control sk-hidden--visually\" id=\"sk-estimator-id-1\" type=\"checkbox\" ><label for=\"sk-estimator-id-1\" class=\"sk-toggleable__label sk-toggleable__label-arrow\">Pipeline</label><div class=\"sk-toggleable__content\"><pre>Pipeline(steps=[(&#x27;cv&#x27;, CountVectorizer()), (&#x27;lr&#x27;, LogisticRegression())])</pre></div></div></div><div class=\"sk-serial\"><div class=\"sk-item\"><div class=\"sk-estimator sk-toggleable\"><input class=\"sk-toggleable__control sk-hidden--visually\" id=\"sk-estimator-id-2\" type=\"checkbox\" ><label for=\"sk-estimator-id-2\" class=\"sk-toggleable__label sk-toggleable__label-arrow\">CountVectorizer</label><div class=\"sk-toggleable__content\"><pre>CountVectorizer()</pre></div></div></div><div class=\"sk-item\"><div class=\"sk-estimator sk-toggleable\"><input class=\"sk-toggleable__control sk-hidden--visually\" id=\"sk-estimator-id-3\" type=\"checkbox\" ><label for=\"sk-estimator-id-3\" class=\"sk-toggleable__label sk-toggleable__label-arrow\">LogisticRegression</label><div class=\"sk-toggleable__content\"><pre>LogisticRegression()</pre></div></div></div></div></div></div></div>"
            ]
          },
          "metadata": {},
          "execution_count": 44
        }
      ]
    },
    {
      "cell_type": "code",
      "source": [
        "pipe_lr.score(x_test,y_test)"
      ],
      "metadata": {
        "id": "LzYOH6HQElWq",
        "colab": {
          "base_uri": "https://localhost:8080/"
        },
        "outputId": "44482cd0-848a-40b3-eecd-d2231fd7073f"
      },
      "execution_count": null,
      "outputs": [
        {
          "output_type": "execute_result",
          "data": {
            "text/plain": [
              "0.8547400611620795"
            ]
          },
          "metadata": {},
          "execution_count": 45
        }
      ]
    },
    {
      "cell_type": "markdown",
      "source": [
        "DATA PREPROCESSING"
      ],
      "metadata": {
        "id": "I8gQT4-_x3Gw"
      }
    },
    {
      "cell_type": "code",
      "source": [
        "import string\n",
        "import nltk\n",
        "from nltk.corpus import stopwords\n",
        "from nltk.stem import PorterStemmer\n",
        "from nltk.tokenize import word_tokenize\n",
        "\n",
        "train_texts =x_train\n",
        "train_labels = y_train\n",
        "test_texts = x_test\n",
        "\n",
        "nltk.download('stopwords')\n",
        "nltk.download('punkt')\n",
        "stop_words = set(stopwords.words('english'))\n",
        "ps = PorterStemmer()\n",
        "\n",
        "def preprocess(text):\n",
        "    text = text.lower()\n",
        "    text = \"\".join([char for char in text if char not in string.punctuation])\n",
        "    tokens = word_tokenize(text)\n",
        "    tokens = [word for word in tokens if word not in stop_words]\n",
        "    tokens = [ps.stem(word) for word in tokens]\n",
        "    return \" \".join(tokens)\n",
        "\n",
        "train_texts = [preprocess(text) for text in train_texts]\n",
        "test_texts = [preprocess(text) for text in test_texts]\n",
        "\n",
        "vectorizer = CountVectorizer()\n",
        "train_features = vectorizer.fit_transform(train_texts)\n",
        "test_features = vectorizer.transform(test_texts)\n",
        "\n",
        "model = LogisticRegression(max_iter=1000)\n",
        "model.fit(train_features, train_labels)\n",
        "\n",
        "predicted_labels = model.predict(test_features)\n",
        "print(predicted_labels)"
      ],
      "metadata": {
        "id": "WcncV6DuKEy0"
      },
      "execution_count": null,
      "outputs": []
    },
    {
      "cell_type": "code",
      "source": [
        "print(predicted_labels)"
      ],
      "metadata": {
        "id": "ASNEsO63Lxc1"
      },
      "execution_count": null,
      "outputs": []
    },
    {
      "cell_type": "code",
      "source": [
        "\n",
        "print(y_test)"
      ],
      "metadata": {
        "colab": {
          "base_uri": "https://localhost:8080/"
        },
        "id": "LB459VdrMSKu",
        "outputId": "aa118c70-3fce-4e9a-db99-dcbed294c626"
      },
      "execution_count": null,
      "outputs": [
        {
          "output_type": "stream",
          "name": "stdout",
          "text": [
            "1852       fear\n",
            "1976      anger\n",
            "2248      anger\n",
            "480         joy\n",
            "3443    sadness\n",
            "         ...   \n",
            "1917       fear\n",
            "2101      anger\n",
            "2578      anger\n",
            "2412      anger\n",
            "733         joy\n",
            "Name: label, Length: 654, dtype: object\n"
          ]
        }
      ]
    },
    {
      "cell_type": "markdown",
      "source": [
        "RESULTS"
      ],
      "metadata": {
        "id": "mK5OhQSayBFb"
      }
    },
    {
      "cell_type": "code",
      "source": [
        "from sklearn.metrics import accuracy_score\n",
        "print(accuracy_score(y_test,predicted_labels))"
      ],
      "metadata": {
        "colab": {
          "base_uri": "https://localhost:8080/"
        },
        "id": "sR40A4fEMcel",
        "outputId": "e1b4c5d0-e39c-4c9f-acef-ccd796aa0b3f"
      },
      "execution_count": null,
      "outputs": [
        {
          "output_type": "stream",
          "name": "stdout",
          "text": [
            "0.8379204892966361\n"
          ]
        }
      ]
    },
    {
      "cell_type": "code",
      "source": [
        "from sklearn.naive_bayes import MultinomialNB"
      ],
      "metadata": {
        "id": "xjvzg32MM4cs"
      },
      "execution_count": null,
      "outputs": []
    },
    {
      "cell_type": "code",
      "source": [
        "pipe_lr1 = Pipeline(steps=[('cv',CountVectorizer()),('lr',MultinomialNB())])\n",
        "pipe_lr1.fit(x_train,y_train)\n",
        "pipe_lr1.score(x_test,y_test)"
      ],
      "metadata": {
        "id": "xMEhNhUtMq6Z",
        "colab": {
          "base_uri": "https://localhost:8080/"
        },
        "outputId": "5e171f0f-c3ae-4048-d9b1-939086a6836d"
      },
      "execution_count": null,
      "outputs": [
        {
          "output_type": "execute_result",
          "data": {
            "text/plain": [
              "0.8165137614678899"
            ]
          },
          "metadata": {},
          "execution_count": 51
        }
      ]
    },
    {
      "cell_type": "markdown",
      "source": [
        "SAVING THE MODEL"
      ],
      "metadata": {
        "id": "GDXHEBuNyEjQ"
      }
    },
    {
      "cell_type": "code",
      "source": [
        "import joblib\n",
        "pipeline_file = open(\"Emotion_Detection.pkl\",\"wb\")\n",
        "joblib.dump(pipe_lr,pipeline_file)\n",
        "pipeline_file.close()"
      ],
      "metadata": {
        "id": "NC2LhOeINHgp"
      },
      "execution_count": null,
      "outputs": []
    },
    {
      "cell_type": "code",
      "source": [
        "!pip install autokeras"
      ],
      "metadata": {
        "id": "iAmx0VhaP5MQ"
      },
      "execution_count": null,
      "outputs": []
    },
    {
      "cell_type": "code",
      "source": [
        "import pandas as pd"
      ],
      "metadata": {
        "id": "rzAm5qLzn5Om"
      },
      "execution_count": null,
      "outputs": []
    },
    {
      "cell_type": "code",
      "source": [
        "trainSet = pd.read_csv('emotion-labels-train.csv')\n",
        "valSet = pd.read_csv('emotion-labels-val.csv')\n",
        "testSet = pd.read_csv('emotion-labels-test.csv')\n",
        "trainSet.head()"
      ],
      "metadata": {
        "colab": {
          "base_uri": "https://localhost:8080/",
          "height": 206
        },
        "id": "c8_PaBtxnxyn",
        "outputId": "392d07c0-20f9-4fc5-cb38-0325ab1ccc1b"
      },
      "execution_count": null,
      "outputs": [
        {
          "output_type": "execute_result",
          "data": {
            "text/plain": [
              "                                                text label\n",
              "0  Just got back from seeing @GaryDelaney in Burs...   joy\n",
              "1  Oh dear an evening of absolute hilarity I don'...   joy\n",
              "2  Been waiting all week for this game ❤️❤️❤️ #ch...   joy\n",
              "3  @gardiner_love : Thank you so much, Gloria! Yo...   joy\n",
              "4  I feel so blessed to work with the family that...   joy"
            ],
            "text/html": [
              "\n",
              "  <div id=\"df-8ec4437d-5e2f-4784-b6fe-c3d8a8681722\">\n",
              "    <div class=\"colab-df-container\">\n",
              "      <div>\n",
              "<style scoped>\n",
              "    .dataframe tbody tr th:only-of-type {\n",
              "        vertical-align: middle;\n",
              "    }\n",
              "\n",
              "    .dataframe tbody tr th {\n",
              "        vertical-align: top;\n",
              "    }\n",
              "\n",
              "    .dataframe thead th {\n",
              "        text-align: right;\n",
              "    }\n",
              "</style>\n",
              "<table border=\"1\" class=\"dataframe\">\n",
              "  <thead>\n",
              "    <tr style=\"text-align: right;\">\n",
              "      <th></th>\n",
              "      <th>text</th>\n",
              "      <th>label</th>\n",
              "    </tr>\n",
              "  </thead>\n",
              "  <tbody>\n",
              "    <tr>\n",
              "      <th>0</th>\n",
              "      <td>Just got back from seeing @GaryDelaney in Burs...</td>\n",
              "      <td>joy</td>\n",
              "    </tr>\n",
              "    <tr>\n",
              "      <th>1</th>\n",
              "      <td>Oh dear an evening of absolute hilarity I don'...</td>\n",
              "      <td>joy</td>\n",
              "    </tr>\n",
              "    <tr>\n",
              "      <th>2</th>\n",
              "      <td>Been waiting all week for this game ❤️❤️❤️ #ch...</td>\n",
              "      <td>joy</td>\n",
              "    </tr>\n",
              "    <tr>\n",
              "      <th>3</th>\n",
              "      <td>@gardiner_love : Thank you so much, Gloria! Yo...</td>\n",
              "      <td>joy</td>\n",
              "    </tr>\n",
              "    <tr>\n",
              "      <th>4</th>\n",
              "      <td>I feel so blessed to work with the family that...</td>\n",
              "      <td>joy</td>\n",
              "    </tr>\n",
              "  </tbody>\n",
              "</table>\n",
              "</div>\n",
              "      <button class=\"colab-df-convert\" onclick=\"convertToInteractive('df-8ec4437d-5e2f-4784-b6fe-c3d8a8681722')\"\n",
              "              title=\"Convert this dataframe to an interactive table.\"\n",
              "              style=\"display:none;\">\n",
              "        \n",
              "  <svg xmlns=\"http://www.w3.org/2000/svg\" height=\"24px\"viewBox=\"0 0 24 24\"\n",
              "       width=\"24px\">\n",
              "    <path d=\"M0 0h24v24H0V0z\" fill=\"none\"/>\n",
              "    <path d=\"M18.56 5.44l.94 2.06.94-2.06 2.06-.94-2.06-.94-.94-2.06-.94 2.06-2.06.94zm-11 1L8.5 8.5l.94-2.06 2.06-.94-2.06-.94L8.5 2.5l-.94 2.06-2.06.94zm10 10l.94 2.06.94-2.06 2.06-.94-2.06-.94-.94-2.06-.94 2.06-2.06.94z\"/><path d=\"M17.41 7.96l-1.37-1.37c-.4-.4-.92-.59-1.43-.59-.52 0-1.04.2-1.43.59L10.3 9.45l-7.72 7.72c-.78.78-.78 2.05 0 2.83L4 21.41c.39.39.9.59 1.41.59.51 0 1.02-.2 1.41-.59l7.78-7.78 2.81-2.81c.8-.78.8-2.07 0-2.86zM5.41 20L4 18.59l7.72-7.72 1.47 1.35L5.41 20z\"/>\n",
              "  </svg>\n",
              "      </button>\n",
              "      \n",
              "  <style>\n",
              "    .colab-df-container {\n",
              "      display:flex;\n",
              "      flex-wrap:wrap;\n",
              "      gap: 12px;\n",
              "    }\n",
              "\n",
              "    .colab-df-convert {\n",
              "      background-color: #E8F0FE;\n",
              "      border: none;\n",
              "      border-radius: 50%;\n",
              "      cursor: pointer;\n",
              "      display: none;\n",
              "      fill: #1967D2;\n",
              "      height: 32px;\n",
              "      padding: 0 0 0 0;\n",
              "      width: 32px;\n",
              "    }\n",
              "\n",
              "    .colab-df-convert:hover {\n",
              "      background-color: #E2EBFA;\n",
              "      box-shadow: 0px 1px 2px rgba(60, 64, 67, 0.3), 0px 1px 3px 1px rgba(60, 64, 67, 0.15);\n",
              "      fill: #174EA6;\n",
              "    }\n",
              "\n",
              "    [theme=dark] .colab-df-convert {\n",
              "      background-color: #3B4455;\n",
              "      fill: #D2E3FC;\n",
              "    }\n",
              "\n",
              "    [theme=dark] .colab-df-convert:hover {\n",
              "      background-color: #434B5C;\n",
              "      box-shadow: 0px 1px 3px 1px rgba(0, 0, 0, 0.15);\n",
              "      filter: drop-shadow(0px 1px 2px rgba(0, 0, 0, 0.3));\n",
              "      fill: #FFFFFF;\n",
              "    }\n",
              "  </style>\n",
              "\n",
              "      <script>\n",
              "        const buttonEl =\n",
              "          document.querySelector('#df-8ec4437d-5e2f-4784-b6fe-c3d8a8681722 button.colab-df-convert');\n",
              "        buttonEl.style.display =\n",
              "          google.colab.kernel.accessAllowed ? 'block' : 'none';\n",
              "\n",
              "        async function convertToInteractive(key) {\n",
              "          const element = document.querySelector('#df-8ec4437d-5e2f-4784-b6fe-c3d8a8681722');\n",
              "          const dataTable =\n",
              "            await google.colab.kernel.invokeFunction('convertToInteractive',\n",
              "                                                     [key], {});\n",
              "          if (!dataTable) return;\n",
              "\n",
              "          const docLinkHtml = 'Like what you see? Visit the ' +\n",
              "            '<a target=\"_blank\" href=https://colab.research.google.com/notebooks/data_table.ipynb>data table notebook</a>'\n",
              "            + ' to learn more about interactive tables.';\n",
              "          element.innerHTML = '';\n",
              "          dataTable['output_type'] = 'display_data';\n",
              "          await google.colab.output.renderOutput(dataTable, element);\n",
              "          const docLink = document.createElement('div');\n",
              "          docLink.innerHTML = docLinkHtml;\n",
              "          element.appendChild(docLink);\n",
              "        }\n",
              "      </script>\n",
              "    </div>\n",
              "  </div>\n",
              "  "
            ]
          },
          "metadata": {},
          "execution_count": 4
        }
      ]
    },
    {
      "cell_type": "code",
      "source": [
        "# Import the packages\n",
        "import numpy as np\n",
        "import pandas as pd\n",
        "import matplotlib.pyplot as plt\n",
        "import seaborn as sns\n",
        "\n",
        "from sklearn.model_selection import train_test_split\n",
        "from sklearn.metrics import make_scorer, accuracy_score, classification_report, confusion_matrix\n",
        "import autokeras as ak"
      ],
      "metadata": {
        "id": "qd6u4DBSoAmj"
      },
      "execution_count": null,
      "outputs": []
    },
    {
      "cell_type": "code",
      "source": [
        "train = pd.concat([trainSet, valSet], axis=0).reset_index(drop=True)\n",
        "\n",
        "# Split data\n",
        "X_train, X_val, y_train, y_val = train_test_split(train['text'], train['label'],\n",
        "                                                    stratify=train['label'],\n",
        "                                                    test_size=0.2, random_state=123)"
      ],
      "metadata": {
        "id": "t1Qb0EV2n4Lq"
      },
      "execution_count": null,
      "outputs": []
    },
    {
      "cell_type": "code",
      "source": [
        "plt.bar(train['label'].value_counts().index, list(train['label'].value_counts()))\n",
        "for index, value in enumerate(list(train['label'].value_counts())):\n",
        "    plt.text(index, value+100, str(value))\n",
        "plt.title('Emotion Count')\n",
        "plt.show()"
      ],
      "metadata": {
        "colab": {
          "base_uri": "https://localhost:8080/",
          "height": 452
        },
        "id": "o4CNRL6hn_Yn",
        "outputId": "c0913216-1203-44f7-a443-046b6faaad99"
      },
      "execution_count": null,
      "outputs": [
        {
          "output_type": "display_data",
          "data": {
            "text/plain": [
              "<Figure size 640x480 with 1 Axes>"
            ],
            "image/png": "[encoded data removed]"
          },
          "metadata": {}
        }
      ]
    },
    {
      "cell_type": "code",
      "source": [
        "# Preparing the data for autokeras\n",
        "X_train_ak = np.array(X_train)\n",
        "y_train_ak = np.array(y_train)\n",
        "X_val_ak = np.array(X_val)\n",
        "y_val_ak = np.array(y_val)"
      ],
      "metadata": {
        "id": "UPGOPqLdoK-D"
      },
      "execution_count": null,
      "outputs": []
    },
    {
      "cell_type": "code",
      "source": [
        "# Create the model\n",
        "node_input = ak.TextInput()\n",
        "node_output = ak.TextToIntSequence()(node_input)\n",
        "node_output = ak.Embedding()(node_output)\n",
        "node_output = ak.ConvBlock(separable=True)(node_output)\n",
        "node_output = ak.ClassificationHead()(node_output)\n",
        "keras = ak.AutoModel(inputs=node_input, outputs=node_output, overwrite=True, max_trials=3)\n",
        "\n",
        "# Fit the training dataset\n",
        "keras.fit(X_train_ak, y_train_ak, epochs=80, validation_split=0.2)"
      ],
      "metadata": {
        "colab": {
          "base_uri": "https://localhost:8080/"
        },
        "id": "BrLvto7FoPD1",
        "outputId": "76da9ca6-e2cf-416e-f773-eee36246198d"
      },
      "execution_count": null,
      "outputs": [
        {
          "output_type": "stream",
          "name": "stdout",
          "text": [
            "Trial 3 Complete [00h 06m 12s]\n",
            "val_loss: 1.3746140003204346\n",
            "\n",
            "Best val_loss So Far: 1.0663808584213257\n",
            "Total elapsed time: 00h 15m 01s\n",
            "Epoch 1/80\n",
            "99/99 [==============================] - 16s 150ms/step - loss: 1.3780 - accuracy: 0.3138\n",
            "Epoch 2/80\n",
            "99/99 [==============================] - 15s 151ms/step - loss: 1.3762 - accuracy: 0.3172\n",
            "Epoch 3/80\n",
            "99/99 [==============================] - 15s 152ms/step - loss: 1.3761 - accuracy: 0.3172\n",
            "Epoch 4/80\n",
            "99/99 [==============================] - 15s 152ms/step - loss: 1.3760 - accuracy: 0.3172\n",
            "Epoch 5/80\n",
            "99/99 [==============================] - 16s 161ms/step - loss: 1.3760 - accuracy: 0.3172\n",
            "Epoch 6/80\n",
            "99/99 [==============================] - 15s 152ms/step - loss: 1.3759 - accuracy: 0.3172\n",
            "Epoch 7/80\n",
            "99/99 [==============================] - 15s 151ms/step - loss: 1.3759 - accuracy: 0.3172\n",
            "Epoch 8/80\n",
            "99/99 [==============================] - 16s 159ms/step - loss: 1.3759 - accuracy: 0.3172\n",
            "Epoch 9/80\n",
            "99/99 [==============================] - 15s 152ms/step - loss: 1.3758 - accuracy: 0.3172\n",
            "Epoch 10/80\n",
            "99/99 [==============================] - 15s 153ms/step - loss: 1.3758 - accuracy: 0.3172\n",
            "Epoch 11/80\n",
            "99/99 [==============================] - 15s 155ms/step - loss: 1.3757 - accuracy: 0.3172\n",
            "Epoch 12/80\n",
            "99/99 [==============================] - 18s 187ms/step - loss: 1.3757 - accuracy: 0.3172\n",
            "Epoch 13/80\n",
            "99/99 [==============================] - 16s 156ms/step - loss: 1.3757 - accuracy: 0.3172\n",
            "Epoch 14/80\n",
            "99/99 [==============================] - 15s 152ms/step - loss: 1.3756 - accuracy: 0.3172\n",
            "Epoch 15/80\n",
            "99/99 [==============================] - 15s 151ms/step - loss: 1.3756 - accuracy: 0.3172\n",
            "Epoch 16/80\n",
            "99/99 [==============================] - 16s 159ms/step - loss: 1.3107 - accuracy: 0.3456\n",
            "Epoch 17/80\n",
            "99/99 [==============================] - 17s 172ms/step - loss: 1.0575 - accuracy: 0.4871\n",
            "Epoch 18/80\n",
            "99/99 [==============================] - 16s 161ms/step - loss: 0.8296 - accuracy: 0.6146\n",
            "Epoch 19/80\n",
            "99/99 [==============================] - 15s 152ms/step - loss: 0.6123 - accuracy: 0.7468\n",
            "Epoch 20/80\n",
            "99/99 [==============================] - 15s 152ms/step - loss: 0.4304 - accuracy: 0.8321\n",
            "Epoch 21/80\n",
            "99/99 [==============================] - 15s 155ms/step - loss: 0.3097 - accuracy: 0.8914\n",
            "Epoch 22/80\n",
            "99/99 [==============================] - 15s 153ms/step - loss: 0.2423 - accuracy: 0.9157\n",
            "Epoch 23/80\n",
            "99/99 [==============================] - 15s 150ms/step - loss: 0.1706 - accuracy: 0.9489\n",
            "Epoch 24/80\n",
            "99/99 [==============================] - 15s 152ms/step - loss: 0.1351 - accuracy: 0.9564\n",
            "Epoch 25/80\n",
            "99/99 [==============================] - 15s 153ms/step - loss: 0.1183 - accuracy: 0.9684\n",
            "Epoch 26/80\n",
            "99/99 [==============================] - 15s 151ms/step - loss: 0.1079 - accuracy: 0.9688\n",
            "Epoch 27/80\n",
            "99/99 [==============================] - 15s 150ms/step - loss: 0.0964 - accuracy: 0.9713\n",
            "Epoch 28/80\n",
            "99/99 [==============================] - 15s 151ms/step - loss: 0.0779 - accuracy: 0.9766\n",
            "Epoch 29/80\n",
            "99/99 [==============================] - 15s 151ms/step - loss: 0.0725 - accuracy: 0.9770\n",
            "Epoch 30/80\n",
            "99/99 [==============================] - 15s 155ms/step - loss: 0.0696 - accuracy: 0.9792\n",
            "Epoch 31/80\n",
            "99/99 [==============================] - 16s 166ms/step - loss: 0.0622 - accuracy: 0.9807\n",
            "Epoch 32/80\n",
            "99/99 [==============================] - 16s 159ms/step - loss: 0.0586 - accuracy: 0.9804\n",
            "Epoch 33/80\n",
            "99/99 [==============================] - 15s 154ms/step - loss: 0.0619 - accuracy: 0.9804\n",
            "Epoch 34/80\n",
            "99/99 [==============================] - 15s 153ms/step - loss: 0.0564 - accuracy: 0.9801\n",
            "Epoch 35/80\n",
            "99/99 [==============================] - 15s 152ms/step - loss: 0.0574 - accuracy: 0.9804\n",
            "Epoch 36/80\n",
            "99/99 [==============================] - 15s 152ms/step - loss: 0.0593 - accuracy: 0.9782\n",
            "Epoch 37/80\n",
            "99/99 [==============================] - 15s 152ms/step - loss: 0.0526 - accuracy: 0.9830\n",
            "Epoch 38/80\n",
            "99/99 [==============================] - 15s 153ms/step - loss: 0.0540 - accuracy: 0.9811\n",
            "Epoch 39/80\n",
            "99/99 [==============================] - 15s 156ms/step - loss: 0.0518 - accuracy: 0.9836\n",
            "Epoch 40/80\n",
            "99/99 [==============================] - 15s 156ms/step - loss: 0.0491 - accuracy: 0.9830\n",
            "Epoch 41/80\n",
            "99/99 [==============================] - 15s 152ms/step - loss: 0.0461 - accuracy: 0.9833\n",
            "Epoch 42/80\n",
            "99/99 [==============================] - 15s 155ms/step - loss: 0.0470 - accuracy: 0.9826\n",
            "Epoch 43/80\n",
            "99/99 [==============================] - 16s 162ms/step - loss: 0.0462 - accuracy: 0.9830\n",
            "Epoch 44/80\n",
            "99/99 [==============================] - 15s 151ms/step - loss: 0.0449 - accuracy: 0.9814\n",
            "Epoch 45/80\n",
            "99/99 [==============================] - 15s 150ms/step - loss: 0.0522 - accuracy: 0.9804\n",
            "Epoch 46/80\n",
            "99/99 [==============================] - 15s 151ms/step - loss: 0.0468 - accuracy: 0.9814\n",
            "Epoch 47/80\n",
            "99/99 [==============================] - 15s 152ms/step - loss: 0.0469 - accuracy: 0.9795\n",
            "Epoch 48/80\n",
            "99/99 [==============================] - 16s 162ms/step - loss: 0.0443 - accuracy: 0.9823\n",
            "Epoch 49/80\n",
            "99/99 [==============================] - 15s 152ms/step - loss: 0.0422 - accuracy: 0.9820\n",
            "Epoch 50/80\n",
            "99/99 [==============================] - 15s 151ms/step - loss: 0.0375 - accuracy: 0.9830\n",
            "Epoch 51/80\n",
            "99/99 [==============================] - 15s 151ms/step - loss: 0.0436 - accuracy: 0.9807\n",
            "Epoch 52/80\n",
            "99/99 [==============================] - 15s 153ms/step - loss: 0.0380 - accuracy: 0.9814\n",
            "Epoch 53/80\n",
            "99/99 [==============================] - 15s 151ms/step - loss: 0.0445 - accuracy: 0.9820\n",
            "Epoch 54/80\n",
            "99/99 [==============================] - 15s 152ms/step - loss: 0.0419 - accuracy: 0.9820\n",
            "Epoch 55/80\n",
            "99/99 [==============================] - 15s 151ms/step - loss: 0.0373 - accuracy: 0.9836\n",
            "Epoch 56/80\n",
            "99/99 [==============================] - 19s 194ms/step - loss: 0.0399 - accuracy: 0.9798\n",
            "Epoch 57/80\n",
            "99/99 [==============================] - 15s 151ms/step - loss: 0.0357 - accuracy: 0.9814\n",
            "Epoch 58/80\n",
            "99/99 [==============================] - 15s 153ms/step - loss: 0.0355 - accuracy: 0.9823\n",
            "Epoch 59/80\n",
            "99/99 [==============================] - 15s 152ms/step - loss: 0.0358 - accuracy: 0.9814\n",
            "Epoch 60/80\n",
            "99/99 [==============================] - 15s 151ms/step - loss: 0.0375 - accuracy: 0.9817\n",
            "Epoch 61/80\n",
            "99/99 [==============================] - 15s 150ms/step - loss: 0.0380 - accuracy: 0.9811\n",
            "Epoch 62/80\n",
            "99/99 [==============================] - 15s 152ms/step - loss: 0.0403 - accuracy: 0.9817\n",
            "Epoch 63/80\n",
            "99/99 [==============================] - 15s 152ms/step - loss: 0.0405 - accuracy: 0.9823\n",
            "Epoch 64/80\n",
            "99/99 [==============================] - 15s 151ms/step - loss: 0.0350 - accuracy: 0.9830\n",
            "Epoch 65/80\n",
            "99/99 [==============================] - 16s 158ms/step - loss: 0.0348 - accuracy: 0.9820\n",
            "Epoch 66/80\n",
            "99/99 [==============================] - 15s 152ms/step - loss: 0.0387 - accuracy: 0.9817\n",
            "Epoch 67/80\n",
            "99/99 [==============================] - 15s 152ms/step - loss: 0.0356 - accuracy: 0.9814\n",
            "Epoch 68/80\n",
            "99/99 [==============================] - 15s 151ms/step - loss: 0.0378 - accuracy: 0.9801\n",
            "Epoch 69/80\n",
            "99/99 [==============================] - 16s 161ms/step - loss: 0.0315 - accuracy: 0.9842\n",
            "Epoch 70/80\n",
            "99/99 [==============================] - 15s 154ms/step - loss: 0.0376 - accuracy: 0.9811\n",
            "Epoch 71/80\n",
            "99/99 [==============================] - 15s 152ms/step - loss: 0.0334 - accuracy: 0.9817\n",
            "Epoch 72/80\n",
            "99/99 [==============================] - 15s 151ms/step - loss: 0.0338 - accuracy: 0.9811\n",
            "Epoch 73/80\n",
            "99/99 [==============================] - 15s 152ms/step - loss: 0.0355 - accuracy: 0.9814\n",
            "Epoch 74/80\n",
            "99/99 [==============================] - 15s 151ms/step - loss: 0.0354 - accuracy: 0.9814\n",
            "Epoch 75/80\n",
            "99/99 [==============================] - 15s 154ms/step - loss: 0.0340 - accuracy: 0.9811\n",
            "Epoch 76/80\n",
            "99/99 [==============================] - 15s 153ms/step - loss: 0.0328 - accuracy: 0.9839\n",
            "Epoch 77/80\n",
            "99/99 [==============================] - 15s 152ms/step - loss: 0.0339 - accuracy: 0.9811\n",
            "Epoch 78/80\n",
            "99/99 [==============================] - 15s 152ms/step - loss: 0.0331 - accuracy: 0.9814\n",
            "Epoch 79/80\n",
            "99/99 [==============================] - 15s 151ms/step - loss: 0.0326 - accuracy: 0.9820\n",
            "Epoch 80/80\n",
            "99/99 [==============================] - 15s 153ms/step - loss: 0.0325 - accuracy: 0.9820\n"
          ]
        },
        {
          "output_type": "stream",
          "name": "stderr",
          "text": [
            "WARNING:absl:Found untraced functions such as _jit_compiled_convolution_op, _jit_compiled_convolution_op, _jit_compiled_convolution_op, _jit_compiled_convolution_op, _update_step_xla while saving (showing 5 of 5). These functions will not be directly callable after loading.\n"
          ]
        },
        {
          "output_type": "execute_result",
          "data": {
            "text/plain": [
              "<keras.callbacks.History at 0x7fc408e9bc40>"
            ]
          },
          "metadata": {},
          "execution_count": 10
        }
      ]
    },
    {
      "cell_type": "code",
      "source": [
        "keras_export = keras.export_model()\n",
        "keras_export.summary()"
      ],
      "metadata": {
        "colab": {
          "base_uri": "https://localhost:8080/"
        },
        "id": "JbyF8ZbGoRU_",
        "outputId": "0d417d48-8a4d-423a-df4e-43f7231507fa"
      },
      "execution_count": null,
      "outputs": [
        {
          "output_type": "stream",
          "name": "stdout",
          "text": [
            "Model: \"model\"\n",
            "_________________________________________________________________\n",
            " Layer (type)                Output Shape              Param #   \n",
            "=================================================================\n",
            " input_1 (InputLayer)        [(None,)]                 0         \n",
            "                                                                 \n",
            " expand_last_dim (ExpandLast  (None, 1)                0         \n",
            " Dim)                                                            \n",
            "                                                                 \n",
            " text_vectorization (TextVec  (None, 512)              0         \n",
            " torization)                                                     \n",
            "                                                                 \n",
            " embedding (Embedding)       (None, 512, 128)          2560128   \n",
            "                                                                 \n",
            " dropout (Dropout)           (None, 512, 128)          0         \n",
            "                                                                 \n",
            " separable_conv1d (Separable  (None, 510, 128)         16896     \n",
            " Conv1D)                                                         \n",
            "                                                                 \n",
            " separable_conv1d_1 (Separab  (None, 508, 32)          4512      \n",
            " leConv1D)                                                       \n",
            "                                                                 \n",
            " max_pooling1d (MaxPooling1D  (None, 254, 32)          0         \n",
            " )                                                               \n",
            "                                                                 \n",
            " separable_conv1d_2 (Separab  (None, 252, 32)          1152      \n",
            " leConv1D)                                                       \n",
            "                                                                 \n",
            " separable_conv1d_3 (Separab  (None, 250, 32)          1152      \n",
            " leConv1D)                                                       \n",
            "                                                                 \n",
            " max_pooling1d_1 (MaxPooling  (None, 125, 32)          0         \n",
            " 1D)                                                             \n",
            "                                                                 \n",
            " flatten (Flatten)           (None, 4000)              0         \n",
            "                                                                 \n",
            " dense (Dense)               (None, 4)                 16004     \n",
            "                                                                 \n",
            " classification_head_1 (Soft  (None, 4)                0         \n",
            " max)                                                            \n",
            "                                                                 \n",
            "=================================================================\n",
            "Total params: 2,599,844\n",
            "Trainable params: 2,599,844\n",
            "Non-trainable params: 0\n",
            "_________________________________________________________________\n"
          ]
        }
      ]
    },
    {
      "cell_type": "code",
      "source": [
        "# Predict the validation data\n",
        "pred_keras = keras.predict(X_val_ak)\n",
        "\n",
        "# Compute the accuracy\n",
        "print('Accuracy: ' + str(accuracy_score(y_val_ak, pred_keras)))"
      ],
      "metadata": {
        "colab": {
          "base_uri": "https://localhost:8080/"
        },
        "id": "L7YRxuXgoqSy",
        "outputId": "0d413c28-e8f7-457f-fa57-dfbee43bdc5a"
      },
      "execution_count": null,
      "outputs": [
        {
          "output_type": "stream",
          "name": "stdout",
          "text": [
            "25/25 [==============================] - 1s 24ms/step\n",
            "25/25 [==============================] - 1s 25ms/step\n",
            "Accuracy: 0.61489898989899\n"
          ]
        }
      ]
    },
    {
      "cell_type": "code",
      "source": [
        "# Convert predicted result into pandas series with numeric type\n",
        "pred_keras_ = pd.DataFrame(pred_keras)\n",
        "pred_keras_ = pred_keras_[0]\n",
        "\n",
        "# Compute the accuracy\n",
        "print('Accuracy: ' + str(accuracy_score(y_val, pred_keras_)))\n",
        "print('')\n",
        "\n",
        "# Prediction results\n",
        "print('Confusion Matrix')\n",
        "print(pd.DataFrame(confusion_matrix(y_val, pred_keras_), index=['anger','fear','joy','sad'], columns=['anger','fear','joy','sad']))\n",
        "print('')\n",
        "print('Classification Report')\n",
        "print(classification_report(y_val, pred_keras_))"
      ],
      "metadata": {
        "colab": {
          "base_uri": "https://localhost:8080/"
        },
        "id": "LILrWnOioukW",
        "outputId": "a62a608a-02d0-4ce0-cb8b-3de12cb26b43"
      },
      "execution_count": null,
      "outputs": [
        {
          "output_type": "stream",
          "name": "stdout",
          "text": [
            "Accuracy: 0.61489898989899\n",
            "\n",
            "Confusion Matrix\n",
            "       anger  fear  joy  sad\n",
            "anger    109     4   19   56\n",
            "fear      13   153    3   83\n",
            "joy       16     5  129   30\n",
            "sad       49    15   12   96\n",
            "\n",
            "Classification Report\n",
            "              precision    recall  f1-score   support\n",
            "\n",
            "       anger       0.58      0.58      0.58       188\n",
            "        fear       0.86      0.61      0.71       252\n",
            "         joy       0.79      0.72      0.75       180\n",
            "     sadness       0.36      0.56      0.44       172\n",
            "\n",
            "    accuracy                           0.61       792\n",
            "   macro avg       0.65      0.62      0.62       792\n",
            "weighted avg       0.67      0.61      0.63       792\n",
            "\n"
          ]
        }
      ]
    },
    {
      "cell_type": "code",
      "source": [],
      "metadata": {
        "id": "cp6yRBs8yDLr"
      },
      "execution_count": null,
      "outputs": []
    }
  ]
}